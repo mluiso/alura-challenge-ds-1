{
  "nbformat": 4,
  "nbformat_minor": 0,
  "metadata": {
    "colab": {
      "provenance": []
    },
    "kernelspec": {
      "name": "python3",
      "display_name": "Python 3"
    },
    "language_info": {
      "name": "python"
    }
  },
  "cells": [
    {
      "cell_type": "markdown",
      "source": [
        "### Importación de datos\n",
        "\n"
      ],
      "metadata": {
        "id": "RhEdWd9YUR6H"
      }
    },
    {
      "cell_type": "code",
      "execution_count": 14,
      "metadata": {
        "colab": {
          "base_uri": "https://localhost:8080/",
          "height": 554
        },
        "id": "T3EvaeQ_INIL",
        "outputId": "8a0570b3-cc83-44b4-c4f0-03387e767aaa"
      },
      "outputs": [
        {
          "output_type": "execute_result",
          "data": {
            "text/plain": [
              "                    Producto Categoría del Producto     Precio  \\\n",
              "0          Asistente virtual           Electrónicos   164300.0   \n",
              "1            Mesa de comedor                Muebles   192300.0   \n",
              "2              Juego de mesa               Juguetes   209600.0   \n",
              "3                 Microondas      Electrodomésticos   757500.0   \n",
              "4           Silla de oficina                Muebles   335200.0   \n",
              "5    Bloques de construcción               Juguetes    24200.0   \n",
              "6                Muñeca bebé               Juguetes    44200.0   \n",
              "7               Lavavajillas      Electrodomésticos  1189700.0   \n",
              "8           Lavadora de ropa      Electrodomésticos  1518200.0   \n",
              "9  Carrito de control remoto               Juguetes    75200.0   \n",
              "\n",
              "   Costo de envío Fecha de Compra         Vendedor Lugar de Compra  \\\n",
              "0          6900.0      16/01/2021      Pedro Gomez          Bogotá   \n",
              "1          8400.0      18/05/2022  Beatriz Morales        Medellín   \n",
              "2         15900.0      15/03/2021   Juan Fernandez       Cartagena   \n",
              "3         41000.0      03/05/2022   Juan Fernandez            Cali   \n",
              "4         20200.0      07/11/2020    Maria Alfonso        Medellín   \n",
              "5             0.0      03/12/2020  Beatriz Morales            Cali   \n",
              "6             0.0      07/08/2021   Juan Fernandez          Bogotá   \n",
              "7         63700.0      18/06/2021    Felipe Santos     Santa Marta   \n",
              "8         79000.0      08/01/2022  Izabela de León          Bogotá   \n",
              "9          5100.0      24/02/2020  Beatriz Morales          Bogotá   \n",
              "\n",
              "   Calificación      Método de pago  Cantidad de cuotas       lat       lon  \n",
              "0             4  Tarjeta de crédito                   8   4.60971 -74.08175  \n",
              "1             1  Tarjeta de crédito                   4   6.25184 -75.56359  \n",
              "2             1  Tarjeta de crédito                   1  10.39972 -75.51444  \n",
              "3             4               Nequi                   1   3.43722 -76.52250  \n",
              "4             5               Nequi                   1   6.25184 -75.56359  \n",
              "5             5               Cupón                   1   3.43722 -76.52250  \n",
              "6             3               Nequi                   1   4.60971 -74.08175  \n",
              "7             5  Tarjeta de crédito                  10  11.24079 -74.19904  \n",
              "8             1  Tarjeta de crédito                   5   4.60971 -74.08175  \n",
              "9             5               Nequi                   1   4.60971 -74.08175  "
            ],
            "text/html": [
              "\n",
              "  <div id=\"df-d4c40c18-4dc9-4640-aa43-bf8b4e4bce94\" class=\"colab-df-container\">\n",
              "    <div>\n",
              "<style scoped>\n",
              "    .dataframe tbody tr th:only-of-type {\n",
              "        vertical-align: middle;\n",
              "    }\n",
              "\n",
              "    .dataframe tbody tr th {\n",
              "        vertical-align: top;\n",
              "    }\n",
              "\n",
              "    .dataframe thead th {\n",
              "        text-align: right;\n",
              "    }\n",
              "</style>\n",
              "<table border=\"1\" class=\"dataframe\">\n",
              "  <thead>\n",
              "    <tr style=\"text-align: right;\">\n",
              "      <th></th>\n",
              "      <th>Producto</th>\n",
              "      <th>Categoría del Producto</th>\n",
              "      <th>Precio</th>\n",
              "      <th>Costo de envío</th>\n",
              "      <th>Fecha de Compra</th>\n",
              "      <th>Vendedor</th>\n",
              "      <th>Lugar de Compra</th>\n",
              "      <th>Calificación</th>\n",
              "      <th>Método de pago</th>\n",
              "      <th>Cantidad de cuotas</th>\n",
              "      <th>lat</th>\n",
              "      <th>lon</th>\n",
              "    </tr>\n",
              "  </thead>\n",
              "  <tbody>\n",
              "    <tr>\n",
              "      <th>0</th>\n",
              "      <td>Asistente virtual</td>\n",
              "      <td>Electrónicos</td>\n",
              "      <td>164300.0</td>\n",
              "      <td>6900.0</td>\n",
              "      <td>16/01/2021</td>\n",
              "      <td>Pedro Gomez</td>\n",
              "      <td>Bogotá</td>\n",
              "      <td>4</td>\n",
              "      <td>Tarjeta de crédito</td>\n",
              "      <td>8</td>\n",
              "      <td>4.60971</td>\n",
              "      <td>-74.08175</td>\n",
              "    </tr>\n",
              "    <tr>\n",
              "      <th>1</th>\n",
              "      <td>Mesa de comedor</td>\n",
              "      <td>Muebles</td>\n",
              "      <td>192300.0</td>\n",
              "      <td>8400.0</td>\n",
              "      <td>18/05/2022</td>\n",
              "      <td>Beatriz Morales</td>\n",
              "      <td>Medellín</td>\n",
              "      <td>1</td>\n",
              "      <td>Tarjeta de crédito</td>\n",
              "      <td>4</td>\n",
              "      <td>6.25184</td>\n",
              "      <td>-75.56359</td>\n",
              "    </tr>\n",
              "    <tr>\n",
              "      <th>2</th>\n",
              "      <td>Juego de mesa</td>\n",
              "      <td>Juguetes</td>\n",
              "      <td>209600.0</td>\n",
              "      <td>15900.0</td>\n",
              "      <td>15/03/2021</td>\n",
              "      <td>Juan Fernandez</td>\n",
              "      <td>Cartagena</td>\n",
              "      <td>1</td>\n",
              "      <td>Tarjeta de crédito</td>\n",
              "      <td>1</td>\n",
              "      <td>10.39972</td>\n",
              "      <td>-75.51444</td>\n",
              "    </tr>\n",
              "    <tr>\n",
              "      <th>3</th>\n",
              "      <td>Microondas</td>\n",
              "      <td>Electrodomésticos</td>\n",
              "      <td>757500.0</td>\n",
              "      <td>41000.0</td>\n",
              "      <td>03/05/2022</td>\n",
              "      <td>Juan Fernandez</td>\n",
              "      <td>Cali</td>\n",
              "      <td>4</td>\n",
              "      <td>Nequi</td>\n",
              "      <td>1</td>\n",
              "      <td>3.43722</td>\n",
              "      <td>-76.52250</td>\n",
              "    </tr>\n",
              "    <tr>\n",
              "      <th>4</th>\n",
              "      <td>Silla de oficina</td>\n",
              "      <td>Muebles</td>\n",
              "      <td>335200.0</td>\n",
              "      <td>20200.0</td>\n",
              "      <td>07/11/2020</td>\n",
              "      <td>Maria Alfonso</td>\n",
              "      <td>Medellín</td>\n",
              "      <td>5</td>\n",
              "      <td>Nequi</td>\n",
              "      <td>1</td>\n",
              "      <td>6.25184</td>\n",
              "      <td>-75.56359</td>\n",
              "    </tr>\n",
              "    <tr>\n",
              "      <th>5</th>\n",
              "      <td>Bloques de construcción</td>\n",
              "      <td>Juguetes</td>\n",
              "      <td>24200.0</td>\n",
              "      <td>0.0</td>\n",
              "      <td>03/12/2020</td>\n",
              "      <td>Beatriz Morales</td>\n",
              "      <td>Cali</td>\n",
              "      <td>5</td>\n",
              "      <td>Cupón</td>\n",
              "      <td>1</td>\n",
              "      <td>3.43722</td>\n",
              "      <td>-76.52250</td>\n",
              "    </tr>\n",
              "    <tr>\n",
              "      <th>6</th>\n",
              "      <td>Muñeca bebé</td>\n",
              "      <td>Juguetes</td>\n",
              "      <td>44200.0</td>\n",
              "      <td>0.0</td>\n",
              "      <td>07/08/2021</td>\n",
              "      <td>Juan Fernandez</td>\n",
              "      <td>Bogotá</td>\n",
              "      <td>3</td>\n",
              "      <td>Nequi</td>\n",
              "      <td>1</td>\n",
              "      <td>4.60971</td>\n",
              "      <td>-74.08175</td>\n",
              "    </tr>\n",
              "    <tr>\n",
              "      <th>7</th>\n",
              "      <td>Lavavajillas</td>\n",
              "      <td>Electrodomésticos</td>\n",
              "      <td>1189700.0</td>\n",
              "      <td>63700.0</td>\n",
              "      <td>18/06/2021</td>\n",
              "      <td>Felipe Santos</td>\n",
              "      <td>Santa Marta</td>\n",
              "      <td>5</td>\n",
              "      <td>Tarjeta de crédito</td>\n",
              "      <td>10</td>\n",
              "      <td>11.24079</td>\n",
              "      <td>-74.19904</td>\n",
              "    </tr>\n",
              "    <tr>\n",
              "      <th>8</th>\n",
              "      <td>Lavadora de ropa</td>\n",
              "      <td>Electrodomésticos</td>\n",
              "      <td>1518200.0</td>\n",
              "      <td>79000.0</td>\n",
              "      <td>08/01/2022</td>\n",
              "      <td>Izabela de León</td>\n",
              "      <td>Bogotá</td>\n",
              "      <td>1</td>\n",
              "      <td>Tarjeta de crédito</td>\n",
              "      <td>5</td>\n",
              "      <td>4.60971</td>\n",
              "      <td>-74.08175</td>\n",
              "    </tr>\n",
              "    <tr>\n",
              "      <th>9</th>\n",
              "      <td>Carrito de control remoto</td>\n",
              "      <td>Juguetes</td>\n",
              "      <td>75200.0</td>\n",
              "      <td>5100.0</td>\n",
              "      <td>24/02/2020</td>\n",
              "      <td>Beatriz Morales</td>\n",
              "      <td>Bogotá</td>\n",
              "      <td>5</td>\n",
              "      <td>Nequi</td>\n",
              "      <td>1</td>\n",
              "      <td>4.60971</td>\n",
              "      <td>-74.08175</td>\n",
              "    </tr>\n",
              "  </tbody>\n",
              "</table>\n",
              "</div>\n",
              "    <div class=\"colab-df-buttons\">\n",
              "\n",
              "  <div class=\"colab-df-container\">\n",
              "    <button class=\"colab-df-convert\" onclick=\"convertToInteractive('df-d4c40c18-4dc9-4640-aa43-bf8b4e4bce94')\"\n",
              "            title=\"Convert this dataframe to an interactive table.\"\n",
              "            style=\"display:none;\">\n",
              "\n",
              "  <svg xmlns=\"http://www.w3.org/2000/svg\" height=\"24px\" viewBox=\"0 -960 960 960\">\n",
              "    <path d=\"M120-120v-720h720v720H120Zm60-500h600v-160H180v160Zm220 220h160v-160H400v160Zm0 220h160v-160H400v160ZM180-400h160v-160H180v160Zm440 0h160v-160H620v160ZM180-180h160v-160H180v160Zm440 0h160v-160H620v160Z\"/>\n",
              "  </svg>\n",
              "    </button>\n",
              "\n",
              "  <style>\n",
              "    .colab-df-container {\n",
              "      display:flex;\n",
              "      gap: 12px;\n",
              "    }\n",
              "\n",
              "    .colab-df-convert {\n",
              "      background-color: #E8F0FE;\n",
              "      border: none;\n",
              "      border-radius: 50%;\n",
              "      cursor: pointer;\n",
              "      display: none;\n",
              "      fill: #1967D2;\n",
              "      height: 32px;\n",
              "      padding: 0 0 0 0;\n",
              "      width: 32px;\n",
              "    }\n",
              "\n",
              "    .colab-df-convert:hover {\n",
              "      background-color: #E2EBFA;\n",
              "      box-shadow: 0px 1px 2px rgba(60, 64, 67, 0.3), 0px 1px 3px 1px rgba(60, 64, 67, 0.15);\n",
              "      fill: #174EA6;\n",
              "    }\n",
              "\n",
              "    .colab-df-buttons div {\n",
              "      margin-bottom: 4px;\n",
              "    }\n",
              "\n",
              "    [theme=dark] .colab-df-convert {\n",
              "      background-color: #3B4455;\n",
              "      fill: #D2E3FC;\n",
              "    }\n",
              "\n",
              "    [theme=dark] .colab-df-convert:hover {\n",
              "      background-color: #434B5C;\n",
              "      box-shadow: 0px 1px 3px 1px rgba(0, 0, 0, 0.15);\n",
              "      filter: drop-shadow(0px 1px 2px rgba(0, 0, 0, 0.3));\n",
              "      fill: #FFFFFF;\n",
              "    }\n",
              "  </style>\n",
              "\n",
              "    <script>\n",
              "      const buttonEl =\n",
              "        document.querySelector('#df-d4c40c18-4dc9-4640-aa43-bf8b4e4bce94 button.colab-df-convert');\n",
              "      buttonEl.style.display =\n",
              "        google.colab.kernel.accessAllowed ? 'block' : 'none';\n",
              "\n",
              "      async function convertToInteractive(key) {\n",
              "        const element = document.querySelector('#df-d4c40c18-4dc9-4640-aa43-bf8b4e4bce94');\n",
              "        const dataTable =\n",
              "          await google.colab.kernel.invokeFunction('convertToInteractive',\n",
              "                                                    [key], {});\n",
              "        if (!dataTable) return;\n",
              "\n",
              "        const docLinkHtml = 'Like what you see? Visit the ' +\n",
              "          '<a target=\"_blank\" href=https://colab.research.google.com/notebooks/data_table.ipynb>data table notebook</a>'\n",
              "          + ' to learn more about interactive tables.';\n",
              "        element.innerHTML = '';\n",
              "        dataTable['output_type'] = 'display_data';\n",
              "        await google.colab.output.renderOutput(dataTable, element);\n",
              "        const docLink = document.createElement('div');\n",
              "        docLink.innerHTML = docLinkHtml;\n",
              "        element.appendChild(docLink);\n",
              "      }\n",
              "    </script>\n",
              "  </div>\n",
              "\n",
              "\n",
              "    <div id=\"df-4f063433-2679-4b6c-bda1-a0ab9c9ff02e\">\n",
              "      <button class=\"colab-df-quickchart\" onclick=\"quickchart('df-4f063433-2679-4b6c-bda1-a0ab9c9ff02e')\"\n",
              "                title=\"Suggest charts\"\n",
              "                style=\"display:none;\">\n",
              "\n",
              "<svg xmlns=\"http://www.w3.org/2000/svg\" height=\"24px\"viewBox=\"0 0 24 24\"\n",
              "     width=\"24px\">\n",
              "    <g>\n",
              "        <path d=\"M19 3H5c-1.1 0-2 .9-2 2v14c0 1.1.9 2 2 2h14c1.1 0 2-.9 2-2V5c0-1.1-.9-2-2-2zM9 17H7v-7h2v7zm4 0h-2V7h2v10zm4 0h-2v-4h2v4z\"/>\n",
              "    </g>\n",
              "</svg>\n",
              "      </button>\n",
              "\n",
              "<style>\n",
              "  .colab-df-quickchart {\n",
              "      --bg-color: #E8F0FE;\n",
              "      --fill-color: #1967D2;\n",
              "      --hover-bg-color: #E2EBFA;\n",
              "      --hover-fill-color: #174EA6;\n",
              "      --disabled-fill-color: #AAA;\n",
              "      --disabled-bg-color: #DDD;\n",
              "  }\n",
              "\n",
              "  [theme=dark] .colab-df-quickchart {\n",
              "      --bg-color: #3B4455;\n",
              "      --fill-color: #D2E3FC;\n",
              "      --hover-bg-color: #434B5C;\n",
              "      --hover-fill-color: #FFFFFF;\n",
              "      --disabled-bg-color: #3B4455;\n",
              "      --disabled-fill-color: #666;\n",
              "  }\n",
              "\n",
              "  .colab-df-quickchart {\n",
              "    background-color: var(--bg-color);\n",
              "    border: none;\n",
              "    border-radius: 50%;\n",
              "    cursor: pointer;\n",
              "    display: none;\n",
              "    fill: var(--fill-color);\n",
              "    height: 32px;\n",
              "    padding: 0;\n",
              "    width: 32px;\n",
              "  }\n",
              "\n",
              "  .colab-df-quickchart:hover {\n",
              "    background-color: var(--hover-bg-color);\n",
              "    box-shadow: 0 1px 2px rgba(60, 64, 67, 0.3), 0 1px 3px 1px rgba(60, 64, 67, 0.15);\n",
              "    fill: var(--button-hover-fill-color);\n",
              "  }\n",
              "\n",
              "  .colab-df-quickchart-complete:disabled,\n",
              "  .colab-df-quickchart-complete:disabled:hover {\n",
              "    background-color: var(--disabled-bg-color);\n",
              "    fill: var(--disabled-fill-color);\n",
              "    box-shadow: none;\n",
              "  }\n",
              "\n",
              "  .colab-df-spinner {\n",
              "    border: 2px solid var(--fill-color);\n",
              "    border-color: transparent;\n",
              "    border-bottom-color: var(--fill-color);\n",
              "    animation:\n",
              "      spin 1s steps(1) infinite;\n",
              "  }\n",
              "\n",
              "  @keyframes spin {\n",
              "    0% {\n",
              "      border-color: transparent;\n",
              "      border-bottom-color: var(--fill-color);\n",
              "      border-left-color: var(--fill-color);\n",
              "    }\n",
              "    20% {\n",
              "      border-color: transparent;\n",
              "      border-left-color: var(--fill-color);\n",
              "      border-top-color: var(--fill-color);\n",
              "    }\n",
              "    30% {\n",
              "      border-color: transparent;\n",
              "      border-left-color: var(--fill-color);\n",
              "      border-top-color: var(--fill-color);\n",
              "      border-right-color: var(--fill-color);\n",
              "    }\n",
              "    40% {\n",
              "      border-color: transparent;\n",
              "      border-right-color: var(--fill-color);\n",
              "      border-top-color: var(--fill-color);\n",
              "    }\n",
              "    60% {\n",
              "      border-color: transparent;\n",
              "      border-right-color: var(--fill-color);\n",
              "    }\n",
              "    80% {\n",
              "      border-color: transparent;\n",
              "      border-right-color: var(--fill-color);\n",
              "      border-bottom-color: var(--fill-color);\n",
              "    }\n",
              "    90% {\n",
              "      border-color: transparent;\n",
              "      border-bottom-color: var(--fill-color);\n",
              "    }\n",
              "  }\n",
              "</style>\n",
              "\n",
              "      <script>\n",
              "        async function quickchart(key) {\n",
              "          const quickchartButtonEl =\n",
              "            document.querySelector('#' + key + ' button');\n",
              "          quickchartButtonEl.disabled = true;  // To prevent multiple clicks.\n",
              "          quickchartButtonEl.classList.add('colab-df-spinner');\n",
              "          try {\n",
              "            const charts = await google.colab.kernel.invokeFunction(\n",
              "                'suggestCharts', [key], {});\n",
              "          } catch (error) {\n",
              "            console.error('Error during call to suggestCharts:', error);\n",
              "          }\n",
              "          quickchartButtonEl.classList.remove('colab-df-spinner');\n",
              "          quickchartButtonEl.classList.add('colab-df-quickchart-complete');\n",
              "        }\n",
              "        (() => {\n",
              "          let quickchartButtonEl =\n",
              "            document.querySelector('#df-4f063433-2679-4b6c-bda1-a0ab9c9ff02e button');\n",
              "          quickchartButtonEl.style.display =\n",
              "            google.colab.kernel.accessAllowed ? 'block' : 'none';\n",
              "        })();\n",
              "      </script>\n",
              "    </div>\n",
              "\n",
              "    </div>\n",
              "  </div>\n"
            ],
            "application/vnd.google.colaboratory.intrinsic+json": {
              "type": "dataframe",
              "variable_name": "tienda",
              "summary": "{\n  \"name\": \"tienda\",\n  \"rows\": 2359,\n  \"fields\": [\n    {\n      \"column\": \"Producto\",\n      \"properties\": {\n        \"dtype\": \"category\",\n        \"num_unique_values\": 51,\n        \"samples\": [\n          \"Guitarra ac\\u00fastica\",\n          \"Bal\\u00f3n de baloncesto\",\n          \"Smartwatch\"\n        ],\n        \"semantic_type\": \"\",\n        \"description\": \"\"\n      }\n    },\n    {\n      \"column\": \"Categor\\u00eda del Producto\",\n      \"properties\": {\n        \"dtype\": \"category\",\n        \"num_unique_values\": 8,\n        \"samples\": [\n          \"Muebles\",\n          \"Deportes y diversi\\u00f3n\",\n          \"Electr\\u00f3nicos\"\n        ],\n        \"semantic_type\": \"\",\n        \"description\": \"\"\n      }\n    },\n    {\n      \"column\": \"Precio\",\n      \"properties\": {\n        \"dtype\": \"number\",\n        \"std\": 614686.7653873172,\n        \"min\": 7600.0,\n        \"max\": 2977000.0,\n        \"num_unique_values\": 1937,\n        \"samples\": [\n          2499400.0,\n          14800.0,\n          80500.0\n        ],\n        \"semantic_type\": \"\",\n        \"description\": \"\"\n      }\n    },\n    {\n      \"column\": \"Costo de env\\u00edo\",\n      \"properties\": {\n        \"dtype\": \"number\",\n        \"std\": 32860.0017825605,\n        \"min\": 0.0,\n        \"max\": 160800.0,\n        \"num_unique_values\": 753,\n        \"samples\": [\n          117800.0,\n          54700.0,\n          45600.0\n        ],\n        \"semantic_type\": \"\",\n        \"description\": \"\"\n      }\n    },\n    {\n      \"column\": \"Fecha de Compra\",\n      \"properties\": {\n        \"dtype\": \"object\",\n        \"num_unique_values\": 1018,\n        \"samples\": [\n          \"15/09/2022\",\n          \"03/06/2020\",\n          \"06/11/2021\"\n        ],\n        \"semantic_type\": \"\",\n        \"description\": \"\"\n      }\n    },\n    {\n      \"column\": \"Vendedor\",\n      \"properties\": {\n        \"dtype\": \"category\",\n        \"num_unique_values\": 14,\n        \"samples\": [\n          \"Juliana Costa\",\n          \"Mariana Herrera\",\n          \"Pedro Gomez\"\n        ],\n        \"semantic_type\": \"\",\n        \"description\": \"\"\n      }\n    },\n    {\n      \"column\": \"Lugar de Compra\",\n      \"properties\": {\n        \"dtype\": \"category\",\n        \"num_unique_values\": 19,\n        \"samples\": [\n          \"Bogot\\u00e1\",\n          \"Pereira\",\n          \"Neiva\"\n        ],\n        \"semantic_type\": \"\",\n        \"description\": \"\"\n      }\n    },\n    {\n      \"column\": \"Calificaci\\u00f3n\",\n      \"properties\": {\n        \"dtype\": \"number\",\n        \"std\": 1,\n        \"min\": 1,\n        \"max\": 5,\n        \"num_unique_values\": 5,\n        \"samples\": [\n          1,\n          2,\n          5\n        ],\n        \"semantic_type\": \"\",\n        \"description\": \"\"\n      }\n    },\n    {\n      \"column\": \"M\\u00e9todo de pago\",\n      \"properties\": {\n        \"dtype\": \"category\",\n        \"num_unique_values\": 4,\n        \"samples\": [\n          \"Nequi\",\n          \"Tarjeta de d\\u00e9bito\",\n          \"Tarjeta de cr\\u00e9dito\"\n        ],\n        \"semantic_type\": \"\",\n        \"description\": \"\"\n      }\n    },\n    {\n      \"column\": \"Cantidad de cuotas\",\n      \"properties\": {\n        \"dtype\": \"number\",\n        \"std\": 2,\n        \"min\": 1,\n        \"max\": 24,\n        \"num_unique_values\": 15,\n        \"samples\": [\n          7,\n          14,\n          8\n        ],\n        \"semantic_type\": \"\",\n        \"description\": \"\"\n      }\n    },\n    {\n      \"column\": \"lat\",\n      \"properties\": {\n        \"dtype\": \"number\",\n        \"std\": 2.2874452492678627,\n        \"min\": -4.21528,\n        \"max\": 11.54444,\n        \"num_unique_values\": 19,\n        \"samples\": [\n          4.60971,\n          4.81333,\n          2.9273\n        ],\n        \"semantic_type\": \"\",\n        \"description\": \"\"\n      }\n    },\n    {\n      \"column\": \"lon\",\n      \"properties\": {\n        \"dtype\": \"number\",\n        \"std\": 1.2178272727088486,\n        \"min\": -77.28111,\n        \"max\": -67.9239,\n        \"num_unique_values\": 19,\n        \"samples\": [\n          -74.08175,\n          -75.69611,\n          -75.28189\n        ],\n        \"semantic_type\": \"\",\n        \"description\": \"\"\n      }\n    }\n  ]\n}"
            }
          },
          "metadata": {},
          "execution_count": 14
        }
      ],
      "source": [
        "import pandas as pd\n",
        "import matplotlib.pyplot as plt\n",
        "\n",
        "\n",
        "\n",
        "\n",
        "url = \"https://raw.githubusercontent.com/alura-es-cursos/challenge1-data-science-latam/refs/heads/main/base-de-datos-challenge1-latam/tienda_1%20.csv\"\n",
        "url2 = \"https://raw.githubusercontent.com/alura-es-cursos/challenge1-data-science-latam/refs/heads/main/base-de-datos-challenge1-latam/tienda_2.csv\"\n",
        "url3 = \"https://raw.githubusercontent.com/alura-es-cursos/challenge1-data-science-latam/refs/heads/main/base-de-datos-challenge1-latam/tienda_3.csv\"\n",
        "url4 = \"https://raw.githubusercontent.com/alura-es-cursos/challenge1-data-science-latam/refs/heads/main/base-de-datos-challenge1-latam/tienda_4.csv\"\n",
        "\n",
        "tienda = pd.read_csv(url)\n",
        "tienda2 = pd.read_csv(url2)\n",
        "tienda3 = pd.read_csv(url3)\n",
        "tienda4 = pd.read_csv(url4)\n",
        "\n",
        "tienda.head(n=10)\n"
      ]
    },
    {
      "cell_type": "markdown",
      "source": [
        "#1. Análisis de facturación\n",
        "\n"
      ],
      "metadata": {
        "id": "X62IW3KFUIYm"
      }
    },
    {
      "cell_type": "code",
      "source": [
        "\n",
        "\n",
        "tiendas = [tienda,tienda2,tienda3,tienda4]\n",
        "ingresosPorTiendas = []\n",
        "for element in tiendas:\n",
        "    ingreso = sum(element['Precio'].to_list())\n",
        "    ingresosPorTiendas.append(ingreso)\n",
        "ingresosPorTiendas\n",
        "tienda_fc = {f'tienda {str(i+1)}': ingresosPorTiendas[i] for i, value in enumerate(ingresosPorTiendas) }\n",
        "\n"
      ],
      "metadata": {
        "id": "xykobSftV64I"
      },
      "execution_count": 2,
      "outputs": []
    },
    {
      "cell_type": "code",
      "source": [
        "###Totales de facturación por tienda\n",
        "\n",
        "for key, value in tienda_fc.items():\n",
        "    print(f\"Total de facturación {key}: ${value}\")"
      ],
      "metadata": {
        "id": "KDyr8E71V3m-",
        "colab": {
          "base_uri": "https://localhost:8080/"
        },
        "outputId": "51fc0ad3-2ea5-4437-8d9e-d8abcd3721ab"
      },
      "execution_count": 3,
      "outputs": [
        {
          "output_type": "stream",
          "name": "stdout",
          "text": [
            "Total de facturación tienda 1: $1150880400.0\n",
            "Total de facturación tienda 2: $1116343500.0\n",
            "Total de facturación tienda 3: $1098019600.0\n",
            "Total de facturación tienda 4: $1038375700.0\n"
          ]
        }
      ]
    },
    {
      "cell_type": "markdown",
      "source": [
        "# 2. Ventas por categoría"
      ],
      "metadata": {
        "id": "2V_vcAPzWZmR"
      }
    },
    {
      "cell_type": "code",
      "source": [
        "\n",
        "def ventasPorCategoria(tienda: pd.DataFrame) -> dict:\n",
        "    categoriasTienda = set(tienda['Categoría del Producto'].to_list())\n",
        "    categoriasTotales = (tienda['Categoría del Producto'].to_list())\n",
        "    preciosTotales = (tienda['Precio'].to_list())\n",
        "\n",
        "    cat_Total_tienda = list(zip(categoriasTotales,preciosTotales))\n",
        "    totalPorCategoria = []\n",
        "    for cat in categoriasTienda:\n",
        "        subtotal = 0\n",
        "        for item in cat_Total_tienda:\n",
        "          if (cat == item[0]):\n",
        "              subtotal = subtotal + item[1]\n",
        "        totalPorCategoria.append(subtotal)\n",
        "    return dict(zip(categoriasTienda, totalPorCategoria))\n",
        "\n",
        "def reportar_Totales(totales: dict):\n",
        "  print(\"Ventas por categoría\\n\")\n",
        "  for k,v in sorted(totales.items()):\n",
        "      print(f'{k}: ${v}')\n",
        "\n",
        "\n",
        "\n"
      ],
      "metadata": {
        "id": "yZR6cOjXYSk1"
      },
      "execution_count": 6,
      "outputs": []
    },
    {
      "cell_type": "code",
      "source": [
        "def ejercicio2VentasPorCat(tiendas: list):\n",
        "    totales = []\n",
        "    for tienda in tiendas:\n",
        "        total = ventasPorCategoria(tienda)\n",
        "        totales.append(total)\n",
        "    return totales\n",
        "\n",
        "total_por_Categoria_1 = ventasPorCategoria(tienda=tienda)\n",
        "total_por_Categoria_2 = ventasPorCategoria(tienda=tienda2)\n",
        "total_por_Categoria_3 = ventasPorCategoria(tienda=tienda3)\n",
        "total_por_Categoria_4 = ventasPorCategoria(tienda=tienda4)\n",
        "\n",
        "totales = ejercicio2VentasPorCat(tiendas)\n",
        "\n",
        "\n",
        "def reportar_Totales(totales: list):\n",
        "  print(\"Ventas por categoría\\n\")\n",
        "  for i, total in enumerate(totales):\n",
        "     print(f\"\\nTienda {i+1}:\\n\")\n",
        "     for k,v in sorted(total.items()):\n",
        "        print(f\"{k}: ${v}\")\n",
        "\n",
        "reportar_Totales(totales)"
      ],
      "metadata": {
        "colab": {
          "base_uri": "https://localhost:8080/"
        },
        "id": "fSIu0LIZxkbG",
        "outputId": "73f0192a-7915-4884-dfb3-281dbec5bd82"
      },
      "execution_count": 7,
      "outputs": [
        {
          "output_type": "stream",
          "name": "stdout",
          "text": [
            "Ventas por categoría\n",
            "\n",
            "\n",
            "Tienda 1:\n",
            "\n",
            "Artículos para el hogar: $12698400.0\n",
            "Deportes y diversión: $39290000.0\n",
            "Electrodomésticos: $363685200.0\n",
            "Electrónicos: $429493500.0\n",
            "Instrumentos musicales: $91299000.0\n",
            "Juguetes: $17995700.0\n",
            "Libros: $8784900.0\n",
            "Muebles: $187633700.0\n",
            "\n",
            "Tienda 2:\n",
            "\n",
            "Artículos para el hogar: $14746900.0\n",
            "Deportes y diversión: $34744500.0\n",
            "Electrodomésticos: $348567800.0\n",
            "Electrónicos: $410831100.0\n",
            "Instrumentos musicales: $104990300.0\n",
            "Juguetes: $15945400.0\n",
            "Libros: $10091200.0\n",
            "Muebles: $176426300.0\n",
            "\n",
            "Tienda 3:\n",
            "\n",
            "Artículos para el hogar: $15060000.0\n",
            "Deportes y diversión: $35593100.0\n",
            "Electrodomésticos: $329237900.0\n",
            "Electrónicos: $410775800.0\n",
            "Instrumentos musicales: $77380900.0\n",
            "Juguetes: $19401100.0\n",
            "Libros: $9498700.0\n",
            "Muebles: $201072100.0\n",
            "\n",
            "Tienda 4:\n",
            "\n",
            "Artículos para el hogar: $15074500.0\n",
            "Deportes y diversión: $33350100.0\n",
            "Electrodomésticos: $283260200.0\n",
            "Electrónicos: $409476100.0\n",
            "Instrumentos musicales: $75102400.0\n",
            "Juguetes: $20262200.0\n",
            "Libros: $9321300.0\n",
            "Muebles: $192528900.0\n"
          ]
        }
      ]
    },
    {
      "cell_type": "markdown",
      "source": [
        "# 3. Calificación promedio de la tienda\n"
      ],
      "metadata": {
        "id": "Rq6tU_xSY3jk"
      }
    },
    {
      "cell_type": "code",
      "source": [
        "def calcular_Promedio(tiendas: list, columna) -> float:\n",
        "    try:\n",
        "        resultados = {f'tienda {str(i+1)}': round(sum(tienda[columna].to_list()) / len(tienda[columna].to_list()),ndigits=2) for i, tienda in enumerate(tiendas)}\n",
        "\n",
        "    except Exception as e:\n",
        "        print(e)\n",
        "\n",
        "    else:\n",
        "        return resultados\n",
        "\n",
        "\n",
        "def reportar_promedio() -> None:\n",
        "      for key,value in (calcular_Promedio(tiendas,columna='Calificación')).items():\n",
        "          print(f\"Calificación de la {key}: {value} \")\n",
        "\n",
        "reportar_promedio()\n",
        "\n",
        "\n"
      ],
      "metadata": {
        "id": "bh3jjjJwY5MU",
        "colab": {
          "base_uri": "https://localhost:8080/"
        },
        "outputId": "cfdffe28-6ed8-4e7a-91d6-8fde58479325"
      },
      "execution_count": 34,
      "outputs": [
        {
          "output_type": "stream",
          "name": "stdout",
          "text": [
            "Calificación de la tienda 1: 3.98 \n",
            "Calificación de la tienda 2: 4.04 \n",
            "Calificación de la tienda 3: 4.05 \n",
            "Calificación de la tienda 4: 4.0 \n"
          ]
        }
      ]
    },
    {
      "cell_type": "markdown",
      "source": [
        "# 4. Productos más y menos vendidos"
      ],
      "metadata": {
        "id": "DmNp1KPBZCm-"
      }
    },
    {
      "cell_type": "code",
      "source": [
        "def extraer_ventas_por_producto(tienda:pd.DataFrame):\n",
        "  ventasPorProducto = {}\n",
        "  for producto in set(tienda['Producto'].to_list()):\n",
        "      for venta in tienda['Producto'].to_list():\n",
        "          if (producto == venta):\n",
        "              if producto not in ventasPorProducto:\n",
        "                  ventasPorProducto[producto] = 1\n",
        "              else:\n",
        "                  ventasPorProducto[producto]+= 1\n",
        "  return ventasPorProducto\n",
        "\n",
        "\n",
        "def extraer_maximo(ventasPorProducto:dict) -> list:\n",
        "    maximos = [item for item in ventasPorProducto.items() if item[1] == max(ventasPorProducto.values())]\n",
        "    return {maximo[0]: maximo[1] for maximo in maximos}\n",
        "def extraer_minimo(ventasPorProducto: dict) -> list:\n",
        "    minimos = [item for item in ventasPorProducto.items() if item[1] == min(ventasPorProducto.values())]\n",
        "    return {minimo[0]: minimo[1] for minimo in minimos}\n",
        "def analizar_productos(tienda: pd.DataFrame, numeroTienda: int) -> dict:\n",
        "    analisis = {f'tienda {str(numeroTienda)}': {}}\n",
        "    ventasPorProducto = (extraer_ventas_por_producto(tienda))\n",
        "    maximosValores = extraer_maximo(ventasPorProducto)\n",
        "    minimosValores = extraer_minimo(ventasPorProducto)\n",
        "    analisis[f'tienda {str(numeroTienda)}']['max'] = maximosValores\n",
        "    analisis[f'tienda {str(numeroTienda)}']['min'] = minimosValores\n",
        "    return analisis\n",
        "\n",
        "\n",
        "analisisProductosTienda1 = analizar_productos(tienda, 1)\n",
        "analisisProductosTienda2 = analizar_productos(tienda2, 2)\n",
        "analisisProductosTienda3 = analizar_productos(tienda3, 3)\n",
        "analisisProductosTienda4 = analizar_productos(tienda4, 4)\n",
        "\n",
        "\n",
        "\n",
        "reportes = [analisisProductosTienda1,analisisProductosTienda2,analisisProductosTienda3,analisisProductosTienda4]\n",
        "\n"
      ],
      "metadata": {
        "id": "qoyjqijQZHfF"
      },
      "execution_count": 11,
      "outputs": []
    },
    {
      "cell_type": "code",
      "source": [
        "def reporte_Productos(reportes:list) -> None:\n",
        "    for reporte in reportes:\n",
        "        for key, value in reporte.items():\n",
        "            print(f\"\\n\\nReporte de ventas {key}:\\n\\n\")\n",
        "            print(\"Productos con mas ventas:\\n\")\n",
        "            for k, v in value['max'].items():\n",
        "                print(f\"{k}: {v} unidades\")\n",
        "            print(\"\\n\\nProductos con menos ventas:\\n\")\n",
        "            for k, v in value['min'].items():\n",
        "                print(f\"{k}: {v} unidades\")\n",
        "\n",
        "reporte_Productos(reportes=reportes)\n"
      ],
      "metadata": {
        "id": "0Sw3sd4IZIGW",
        "colab": {
          "base_uri": "https://localhost:8080/"
        },
        "outputId": "9758faa4-9485-4ad3-fc53-aeceb5588e59"
      },
      "execution_count": 12,
      "outputs": [
        {
          "output_type": "stream",
          "name": "stdout",
          "text": [
            "\n",
            "\n",
            "Reporte de ventas tienda 1:\n",
            "\n",
            "\n",
            "Productos con mas ventas:\n",
            "\n",
            "Armario: 60 unidades\n",
            "Microondas: 60 unidades\n",
            "TV LED UHD 4K: 60 unidades\n",
            "\n",
            "\n",
            "Productos con menos ventas:\n",
            "\n",
            "Celular ABXY: 33 unidades\n",
            "Auriculares con micrófono: 33 unidades\n",
            "\n",
            "\n",
            "Reporte de ventas tienda 2:\n",
            "\n",
            "\n",
            "Productos con mas ventas:\n",
            "\n",
            "Iniciando en programación: 65 unidades\n",
            "\n",
            "\n",
            "Productos con menos ventas:\n",
            "\n",
            "Juego de mesa: 32 unidades\n",
            "\n",
            "\n",
            "Reporte de ventas tienda 3:\n",
            "\n",
            "\n",
            "Productos con mas ventas:\n",
            "\n",
            "Kit de bancas: 57 unidades\n",
            "\n",
            "\n",
            "Productos con menos ventas:\n",
            "\n",
            "Bloques de construcción: 35 unidades\n",
            "\n",
            "\n",
            "Reporte de ventas tienda 4:\n",
            "\n",
            "\n",
            "Productos con mas ventas:\n",
            "\n",
            "Cama box: 62 unidades\n",
            "\n",
            "\n",
            "Productos con menos ventas:\n",
            "\n",
            "Guitarra eléctrica: 33 unidades\n"
          ]
        }
      ]
    },
    {
      "cell_type": "markdown",
      "source": [
        "# 5. Envío promedio por tienda"
      ],
      "metadata": {
        "id": "Fl0cGi3bZKqU"
      }
    },
    {
      "cell_type": "code",
      "source": [
        "def calcular_costo_envio_promedio(tiendas:list) -> list:\n",
        "    promedios = []\n",
        "    for tienda in tiendas:\n",
        "        promedio = round(sum(tienda['Costo de envío'].to_list())/len(tienda['Costo de envío'].to_list()),2)\n",
        "        promedios.append(promedio)\n",
        "    return promedios\n",
        "\n",
        "\n",
        "\n",
        "\n",
        "promedios_totales_costo_envio = calcular_costo_envio_promedio(tiendas=tiendas)\n",
        "promedios_totales_costo_envio"
      ],
      "metadata": {
        "id": "S2JeaCykZNy9",
        "colab": {
          "base_uri": "https://localhost:8080/"
        },
        "outputId": "b3501bea-b920-496f-d999-ce607dd26471"
      },
      "execution_count": 24,
      "outputs": [
        {
          "output_type": "execute_result",
          "data": {
            "text/plain": [
              "[26018.61, 25216.24, 24805.68, 23459.46]"
            ]
          },
          "metadata": {},
          "execution_count": 24
        }
      ]
    },
    {
      "cell_type": "code",
      "source": [
        "for i in range(len(tiendas)):\n",
        "    print(f\"Costo promedio tienda {i+1}: $ {promedios_totales_costo_envio[i]}\")"
      ],
      "metadata": {
        "id": "0tSdCie9ZQlt",
        "colab": {
          "base_uri": "https://localhost:8080/"
        },
        "outputId": "45e6843c-648e-4487-a4eb-a6d032608e9d"
      },
      "execution_count": 26,
      "outputs": [
        {
          "output_type": "stream",
          "name": "stdout",
          "text": [
            "Costo promedio tienda 1: $ 26018.61\n",
            "Costo promedio tienda 2: $ 25216.24\n",
            "Costo promedio tienda 3: $ 24805.68\n",
            "Costo promedio tienda 4: $ 23459.46\n"
          ]
        }
      ]
    },
    {
      "cell_type": "code",
      "source": [
        "plt.ticklabel_format(style='plain', useOffset=False, axis='y')\n",
        "plt.title(\"Ingresos totales por tienda\")\n",
        "plt.bar(list(tienda_fc.keys()),list(tienda_fc.values()))\n",
        "plt.show()"
      ],
      "metadata": {
        "colab": {
          "base_uri": "https://localhost:8080/",
          "height": 452
        },
        "id": "Jj55hM-R_AO1",
        "outputId": "5a330323-2cfc-4b2c-de1a-28f923159fa7"
      },
      "execution_count": 42,
      "outputs": [
        {
          "output_type": "display_data",
          "data": {
            "text/plain": [
              "<Figure size 640x480 with 1 Axes>"
            ],
            "image/png": "[encoded data removed]"
          },
          "metadata": {}
        }
      ]
    },
    {
      "cell_type": "code",
      "source": [
        "plt.figure(figsize=(6, 6))\n",
        "plt.pie(\n",
        "    tienda_fc.values(),\n",
        "    labels=tienda_fc.keys(),\n",
        "    autopct='%1.1f%%',\n",
        "    startangle=90,\n",
        "    colors=['skyblue', 'lightcoral']\n",
        "\n",
        ")\n",
        "plt.title(\"Ingresos totales porcentuales por tienda\")\n",
        "plt.show()"
      ],
      "metadata": {
        "colab": {
          "base_uri": "https://localhost:8080/",
          "height": 521
        },
        "id": "kTaat54j_CQL",
        "outputId": "626fbff3-a6c8-407c-bddd-ca1c4696f500"
      },
      "execution_count": 43,
      "outputs": [
        {
          "output_type": "display_data",
          "data": {
            "text/plain": [
              "<Figure size 600x600 with 1 Axes>"
            ],
            "image/png": "[encoded data removed]"
          },
          "metadata": {}
        }
      ]
    },
    {
      "cell_type": "code",
      "source": [
        "promedios_calififaciones = calcular_Promedio(tiendas=tiendas, columna='Calificación')\n",
        "plt.figure(figsize=(8, 5))\n",
        "plt.bar(promedios_calififaciones.keys(), promedios_calififaciones.values(), color='skyblue')\n",
        "\n",
        "plt.title(\"Promedio de Calificación por Tienda\")\n",
        "plt.xlabel(\"Tienda\")\n",
        "plt.ylabel(\"Calificación Promedio\")\n",
        "plt.ylim(0, 5)\n",
        "\n",
        "\n",
        "for i, (tienda, calificacion) in enumerate(promedios_calififaciones.items()):\n",
        "    plt.text(i, calificacion + 0.05, f\"{calificacion:.2f}\", ha='center')\n",
        "\n",
        "plt.tight_layout()\n",
        "plt.show()"
      ],
      "metadata": {
        "colab": {
          "base_uri": "https://localhost:8080/",
          "height": 507
        },
        "id": "ECD3rl26_MO_",
        "outputId": "806a9de7-6763-474a-efcd-fb79668a00a5"
      },
      "execution_count": 44,
      "outputs": [
        {
          "output_type": "display_data",
          "data": {
            "text/plain": [
              "<Figure size 800x500 with 1 Axes>"
            ],
            "image/png": "[encoded data removed]"
          },
          "metadata": {}
        }
      ]
    }
  ]
}